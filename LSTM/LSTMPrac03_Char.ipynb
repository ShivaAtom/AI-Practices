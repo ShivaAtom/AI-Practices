{
  "nbformat": 4,
  "nbformat_minor": 0,
  "metadata": {
    "colab": {
      "provenance": [],
      "gpuType": "T4",
      "authorship_tag": "ABX9TyNhh5MZRF8c52ROy/8lAxD2",
      "include_colab_link": true
    },
    "kernelspec": {
      "name": "python3",
      "display_name": "Python 3"
    },
    "language_info": {
      "name": "python"
    },
    "accelerator": "GPU"
  },
  "cells": [
    {
      "cell_type": "markdown",
      "metadata": {
        "id": "view-in-github",
        "colab_type": "text"
      },
      "source": [
        "<a href=\"https://colab.research.google.com/github/ShivaAtom/AI-Practices/blob/main/LSTMPredecirLetra.ipynb\" target=\"_parent\"><img src=\"https://colab.research.google.com/assets/colab-badge.svg\" alt=\"Open In Colab\"/></a>"
      ]
    },
    {
      "cell_type": "code",
      "source": [
        "text = 'Hola como estan'"
      ],
      "metadata": {
        "id": "aV-QxyAD3DZr"
      },
      "execution_count": null,
      "outputs": []
    },
    {
      "cell_type": "markdown",
      "source": [
        "# **Programa**"
      ],
      "metadata": {
        "id": "rj2WRipB3DFQ"
      }
    },
    {
      "cell_type": "code",
      "execution_count": null,
      "metadata": {
        "id": "BMoLb5sTpHPS"
      },
      "outputs": [],
      "source": [
        "import tensorflow as tf\n",
        "import numpy as np\n",
        "import matplotlib.pyplot as plt\n",
        "from tensorflow import keras"
      ]
    },
    {
      "cell_type": "code",
      "source": [
        "text = text.lower()\n",
        "ar_text = list(text)\n",
        "alfabeto = list(set(text))\n",
        "print(ar_text)\n",
        "print(alfabeto)"
      ],
      "metadata": {
        "colab": {
          "base_uri": "https://localhost:8080/"
        },
        "id": "Ky5Uoz0TpaXF",
        "outputId": "586070d2-83dd-4254-9635-69a8bdd2eee1"
      },
      "execution_count": null,
      "outputs": [
        {
          "output_type": "stream",
          "name": "stdout",
          "text": [
            "['h', 'o', 'l', 'a', ' ', 'c', 'o', 'm', 'o', ' ', 'e', 's', 't', 'a', 'n']\n",
            "['h', 'a', 'n', 'o', 'l', 'm', 's', 't', 'c', 'e', ' ']\n"
          ]
        }
      ]
    },
    {
      "cell_type": "code",
      "source": [
        "char_a_ind ={}\n",
        "ind_a_char ={}"
      ],
      "metadata": {
        "id": "bBSHUbiZqFGy"
      },
      "execution_count": null,
      "outputs": []
    },
    {
      "cell_type": "code",
      "source": [
        "etiqueta = np.arange(len(alfabeto))\n",
        "size_text = len(alfabeto)\n",
        "formato = tf.one_hot(etiqueta,size_text)\n",
        "\n",
        "for i,vec in enumerate(formato):\n",
        "  char_a_ind[alfabeto[i]] = vec\n",
        "\n",
        "char_a_ind"
      ],
      "metadata": {
        "colab": {
          "base_uri": "https://localhost:8080/"
        },
        "id": "oO2p9IGTqhHC",
        "outputId": "8a2b9a6e-4521-4d3a-bd87-13e32cbb8210"
      },
      "execution_count": null,
      "outputs": [
        {
          "output_type": "execute_result",
          "data": {
            "text/plain": [
              "{'h': <tf.Tensor: shape=(11,), dtype=float32, numpy=array([1., 0., 0., 0., 0., 0., 0., 0., 0., 0., 0.], dtype=float32)>,\n",
              " 'a': <tf.Tensor: shape=(11,), dtype=float32, numpy=array([0., 1., 0., 0., 0., 0., 0., 0., 0., 0., 0.], dtype=float32)>,\n",
              " 'n': <tf.Tensor: shape=(11,), dtype=float32, numpy=array([0., 0., 1., 0., 0., 0., 0., 0., 0., 0., 0.], dtype=float32)>,\n",
              " 'o': <tf.Tensor: shape=(11,), dtype=float32, numpy=array([0., 0., 0., 1., 0., 0., 0., 0., 0., 0., 0.], dtype=float32)>,\n",
              " 'l': <tf.Tensor: shape=(11,), dtype=float32, numpy=array([0., 0., 0., 0., 1., 0., 0., 0., 0., 0., 0.], dtype=float32)>,\n",
              " 'm': <tf.Tensor: shape=(11,), dtype=float32, numpy=array([0., 0., 0., 0., 0., 1., 0., 0., 0., 0., 0.], dtype=float32)>,\n",
              " 's': <tf.Tensor: shape=(11,), dtype=float32, numpy=array([0., 0., 0., 0., 0., 0., 1., 0., 0., 0., 0.], dtype=float32)>,\n",
              " 't': <tf.Tensor: shape=(11,), dtype=float32, numpy=array([0., 0., 0., 0., 0., 0., 0., 1., 0., 0., 0.], dtype=float32)>,\n",
              " 'c': <tf.Tensor: shape=(11,), dtype=float32, numpy=array([0., 0., 0., 0., 0., 0., 0., 0., 1., 0., 0.], dtype=float32)>,\n",
              " 'e': <tf.Tensor: shape=(11,), dtype=float32, numpy=array([0., 0., 0., 0., 0., 0., 0., 0., 0., 1., 0.], dtype=float32)>,\n",
              " ' ': <tf.Tensor: shape=(11,), dtype=float32, numpy=array([0., 0., 0., 0., 0., 0., 0., 0., 0., 0., 1.], dtype=float32)>}"
            ]
          },
          "metadata": {},
          "execution_count": 325
        }
      ]
    },
    {
      "cell_type": "code",
      "source": [
        "x_train=[]\n",
        "y_train=[]\n",
        "aux=[]\n",
        "for i in range(len(text)-1):\n",
        "  aux.append(text[i])\n",
        "  aux.append(text[i+1])\n",
        "  x_train.append(aux)\n",
        "  aux=[]\n",
        "x_train.pop()\n",
        "print(x_train)\n",
        "for i in range(len(text)):\n",
        "  if i != 1 and i != 0:\n",
        "    y_train.append(text[i])\n",
        "print(y_train)"
      ],
      "metadata": {
        "colab": {
          "base_uri": "https://localhost:8080/"
        },
        "id": "fwPFiZZusq6J",
        "outputId": "18bddbf1-d77c-4e74-aeab-56d1f8403cec"
      },
      "execution_count": null,
      "outputs": [
        {
          "output_type": "stream",
          "name": "stdout",
          "text": [
            "[['h', 'o'], ['o', 'l'], ['l', 'a'], ['a', ' '], [' ', 'c'], ['c', 'o'], ['o', 'm'], ['m', 'o'], ['o', ' '], [' ', 'e'], ['e', 's'], ['s', 't'], ['t', 'a']]\n",
            "['l', 'a', ' ', 'c', 'o', 'm', 'o', ' ', 'e', 's', 't', 'a', 'n']\n"
          ]
        }
      ]
    },
    {
      "cell_type": "code",
      "source": [
        "def conversion(diccionario, array):\n",
        "  aux=[]\n",
        "  for val in array:\n",
        "    aux.append(diccionario[val])\n",
        "  return aux"
      ],
      "metadata": {
        "id": "A-7R1XNZt19b"
      },
      "execution_count": null,
      "outputs": []
    },
    {
      "cell_type": "code",
      "source": [
        "Y = conversion(char_a_ind, y_train)\n",
        "X = []\n",
        "for i in x_train:\n",
        "  X.append(conversion(char_a_ind,i))"
      ],
      "metadata": {
        "id": "IxUv-yGOuPvi"
      },
      "execution_count": null,
      "outputs": []
    },
    {
      "cell_type": "code",
      "source": [
        "Y = np.array(Y)\n",
        "X = np.array(X)\n",
        "len(X[0])"
      ],
      "metadata": {
        "colab": {
          "base_uri": "https://localhost:8080/"
        },
        "id": "aapXrFO1vBzz",
        "outputId": "76c9bf5e-6281-4325-d8b6-8f05ccc89404"
      },
      "execution_count": null,
      "outputs": [
        {
          "output_type": "execute_result",
          "data": {
            "text/plain": [
              "2"
            ]
          },
          "metadata": {},
          "execution_count": 329
        }
      ]
    },
    {
      "cell_type": "code",
      "source": [
        "modelo = keras.Sequential([\n",
        "    keras.layers.Input(shape=(len(X[0]),len(X[0][0]))),\n",
        "    keras.layers.LSTM(64),\n",
        "    keras.layers.Dense(len(X[0][0]),activation='softmax')\n",
        "])"
      ],
      "metadata": {
        "id": "cHuI_YnPvLe3"
      },
      "execution_count": null,
      "outputs": []
    },
    {
      "cell_type": "code",
      "source": [
        "modelo.compile(\n",
        "    optimizer='adam',\n",
        "    loss=keras.losses.categorical_crossentropy,\n",
        "    metrics=[keras.metrics.binary_accuracy]\n",
        ")"
      ],
      "metadata": {
        "id": "L2wUHq8ewu8N"
      },
      "execution_count": null,
      "outputs": []
    },
    {
      "cell_type": "code",
      "source": [
        "his = modelo.fit(X,Y,epochs=600,verbose=False)"
      ],
      "metadata": {
        "id": "VosQiXsTw7oJ"
      },
      "execution_count": null,
      "outputs": []
    },
    {
      "cell_type": "code",
      "source": [
        "plt.plot(his.history['loss'])"
      ],
      "metadata": {
        "colab": {
          "base_uri": "https://localhost:8080/",
          "height": 451
        },
        "id": "f9keiIp-xaTY",
        "outputId": "a45cd318-0e1f-430f-b3bb-96791c6b675e"
      },
      "execution_count": null,
      "outputs": [
        {
          "output_type": "execute_result",
          "data": {
            "text/plain": [
              "[<matplotlib.lines.Line2D at 0x7fc77e55c640>]"
            ]
          },
          "metadata": {},
          "execution_count": 333
        },
        {
          "output_type": "display_data",
          "data": {
            "text/plain": [
              "<Figure size 640x480 with 1 Axes>"
            ],
            "image/png": "[encoded data removed]"
          },
          "metadata": {}
        }
      ]
    },
    {
      "cell_type": "markdown",
      "source": [
        "# **Testeo**"
      ],
      "metadata": {
        "id": "9cGP5oq12__2"
      }
    },
    {
      "cell_type": "code",
      "source": [
        "test = 'co'"
      ],
      "metadata": {
        "id": "maNXJHY5xtHU"
      },
      "execution_count": null,
      "outputs": []
    },
    {
      "cell_type": "code",
      "source": [
        "test= list(test)\n",
        "arr_test = conversion(char_a_ind,test)\n",
        "arr_test = np.array([arr_test])\n",
        "\n",
        "res = modelo.predict(arr_test)"
      ],
      "metadata": {
        "colab": {
          "base_uri": "https://localhost:8080/"
        },
        "id": "t_wC2IFex3Fw",
        "outputId": "a875e31f-3804-4c1f-996e-5956a135abc6"
      },
      "execution_count": null,
      "outputs": [
        {
          "output_type": "stream",
          "name": "stdout",
          "text": [
            "1/1 [==============================] - 0s 365ms/step\n"
          ]
        }
      ]
    },
    {
      "cell_type": "code",
      "source": [
        "testeo = np.array(res[0])\n",
        "\n",
        "indice_max = np.argmax(testeo)\n",
        "nuevo_array=np.zeros_like(testeo)\n",
        "nuevo_array[indice_max]= 1\n",
        "for i,val in enumerate(alfabeto):\n",
        "  print(f'{val}:{int(nuevo_array[i])}')"
      ],
      "metadata": {
        "colab": {
          "base_uri": "https://localhost:8080/"
        },
        "id": "v0vu320TypBb",
        "outputId": "9648c52c-72ef-433b-9959-44f82da0986c"
      },
      "execution_count": null,
      "outputs": [
        {
          "output_type": "stream",
          "name": "stdout",
          "text": [
            "h:0\n",
            "a:0\n",
            "n:0\n",
            "o:0\n",
            "l:0\n",
            "m:1\n",
            "s:0\n",
            "t:0\n",
            "c:0\n",
            "e:0\n",
            " :0\n"
          ]
        }
      ]
    }
  ]
}
