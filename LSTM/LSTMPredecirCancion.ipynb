{
  "nbformat": 4,
  "nbformat_minor": 0,
  "metadata": {
    "colab": {
      "provenance": [],
      "collapsed_sections": [
        "ZGnptzHbPpqR"
      ],
      "gpuType": "T4",
      "authorship_tag": "ABX9TyPNqRxmprX+lxR1cCNrGrq9",
      "include_colab_link": true
    },
    "kernelspec": {
      "name": "python3",
      "display_name": "Python 3"
    },
    "language_info": {
      "name": "python"
    },
    "accelerator": "GPU"
  },
  "cells": [
    {
      "cell_type": "markdown",
      "metadata": {
        "id": "view-in-github",
        "colab_type": "text"
      },
      "source": [
        "<a href=\"https://colab.research.google.com/github/ShivaAtom/AI-Practices/blob/main/LSTMPredecirCancion.ipynb\" target=\"_parent\"><img src=\"https://colab.research.google.com/assets/colab-badge.svg\" alt=\"Open In Colab\"/></a>"
      ]
    },
    {
      "cell_type": "code",
      "source": [
        "with open('Cancion.txt','r') as archivo:\n",
        "  texto = archivo.read()"
      ],
      "metadata": {
        "id": "RhvUK4bb-dyN"
      },
      "execution_count": null,
      "outputs": []
    },
    {
      "cell_type": "markdown",
      "source": [
        "# ***Programa***"
      ],
      "metadata": {
        "id": "ZGnptzHbPpqR"
      }
    },
    {
      "cell_type": "code",
      "execution_count": null,
      "metadata": {
        "id": "1vGtCGLJ9sNS"
      },
      "outputs": [],
      "source": [
        "import tensorflow as tf\n",
        "import numpy as np\n",
        "import matplotlib.pyplot as plt\n",
        "\n",
        "from tensorflow import keras"
      ]
    },
    {
      "cell_type": "code",
      "source": [
        "texto = texto.replace(',','').replace('.','').replace(\"'\",'').replace(\"\\n\",\" \").replace('?',' ').replace('¿',' ')\n",
        "texto = texto.lower()"
      ],
      "metadata": {
        "id": "UqzXPnbjBepF"
      },
      "execution_count": null,
      "outputs": []
    },
    {
      "cell_type": "code",
      "source": [
        "aux = \"\"\n",
        "arr_palabras =[]\n",
        "for i in texto:\n",
        "  if i != \" \":\n",
        "    aux = aux + i\n",
        "  else:\n",
        "    arr_palabras.append(aux)\n",
        "    aux = \"\""
      ],
      "metadata": {
        "id": "b3omNi13C9iD"
      },
      "execution_count": null,
      "outputs": []
    },
    {
      "cell_type": "code",
      "source": [
        "alfabeto = list(set(arr_palabras))"
      ],
      "metadata": {
        "id": "Bj7kWHVgEJq3"
      },
      "execution_count": null,
      "outputs": []
    },
    {
      "cell_type": "code",
      "source": [
        "aux = []\n",
        "x_pre,y_pre = [],[]\n",
        "for i in range(len(arr_palabras)-1):\n",
        "  aux.append(arr_palabras[i])\n",
        "  aux.append(arr_palabras[i+1])\n",
        "  x_pre.append(aux)\n",
        "  aux=[]\n",
        "x_pre.pop()\n",
        "print(len(x_pre))\n",
        "for i in range(len(arr_palabras)):\n",
        "  if i != 1 and i != 0:\n",
        "    y_pre.append(arr_palabras[i])\n",
        "print(len(y_pre))"
      ],
      "metadata": {
        "colab": {
          "base_uri": "https://localhost:8080/"
        },
        "id": "4LcEnXuUEtj7",
        "outputId": "21ade38a-bb62-48ee-be74-f7bfb19bff15"
      },
      "execution_count": null,
      "outputs": [
        {
          "output_type": "stream",
          "name": "stdout",
          "text": [
            "156\n",
            "156\n"
          ]
        }
      ]
    },
    {
      "cell_type": "code",
      "source": [
        "tam = len(alfabeto)\n",
        "etiqueta = np.arange(tam)\n",
        "\n",
        "one_hot = tf.one_hot(etiqueta,tam)"
      ],
      "metadata": {
        "id": "F2jMF8XaGeF4"
      },
      "execution_count": null,
      "outputs": []
    },
    {
      "cell_type": "code",
      "source": [
        "pal_a_ind = {alfabeto[ind]:vec for ind, vec in enumerate(one_hot)}"
      ],
      "metadata": {
        "id": "fN9Eqm2iHWCH"
      },
      "execution_count": null,
      "outputs": []
    },
    {
      "cell_type": "code",
      "source": [
        "def conversion( diccionario, array):\n",
        "  aux =[]\n",
        "  for i in array:\n",
        "    aux.append(diccionario[i])\n",
        "  return aux"
      ],
      "metadata": {
        "id": "LTKLpRK0Iflt"
      },
      "execution_count": null,
      "outputs": []
    },
    {
      "cell_type": "code",
      "source": [
        "Y = conversion(pal_a_ind,y_pre)\n",
        "X = []\n",
        "for i in x_pre:\n",
        "  X.append(conversion(pal_a_ind,i))\n",
        "\n",
        "X = np.array(X)\n",
        "Y = np.array(Y)"
      ],
      "metadata": {
        "id": "kBQfsHBxIuOQ"
      },
      "execution_count": null,
      "outputs": []
    },
    {
      "cell_type": "code",
      "source": [
        "len(Y[0])"
      ],
      "metadata": {
        "colab": {
          "base_uri": "https://localhost:8080/"
        },
        "id": "6cijFshuJt-L",
        "outputId": "d56516a7-c22c-4906-da59-1aad835e2823"
      },
      "execution_count": null,
      "outputs": [
        {
          "output_type": "execute_result",
          "data": {
            "text/plain": [
              "74"
            ]
          },
          "metadata": {},
          "execution_count": 216
        }
      ]
    },
    {
      "cell_type": "code",
      "source": [
        "modelo = keras.Sequential([\n",
        "    keras.layers.Input(shape=(len(X[0]),len(Y[0]))),\n",
        "    keras.layers.LSTM(320),\n",
        "    keras.layers.Dense(250),\n",
        "    keras.layers.Dense(len(Y[0]), activation='softmax')\n",
        "])"
      ],
      "metadata": {
        "id": "5n-pNJSsJ_Nt"
      },
      "execution_count": null,
      "outputs": []
    },
    {
      "cell_type": "code",
      "source": [
        "modelo.compile(\n",
        "    optimizer = 'adam',\n",
        "    loss = keras.losses.categorical_crossentropy,\n",
        "    metrics=[keras.metrics.categorical_crossentropy]\n",
        ")"
      ],
      "metadata": {
        "id": "7uDoyss_K8EE"
      },
      "execution_count": null,
      "outputs": []
    },
    {
      "cell_type": "code",
      "source": [
        "his = modelo.fit(X,Y,epochs=1000,verbose=False)"
      ],
      "metadata": {
        "id": "1NHpGcT0LoVx"
      },
      "execution_count": null,
      "outputs": []
    },
    {
      "cell_type": "code",
      "source": [
        "plt.plot(his.history['loss'])"
      ],
      "metadata": {
        "colab": {
          "base_uri": "https://localhost:8080/"
        },
        "id": "zUdAw95ZMR8f",
        "outputId": "79bb0d64-1a25-4e3a-cee3-e3d137a41260"
      },
      "execution_count": null,
      "outputs": [
        {
          "output_type": "execute_result",
          "data": {
            "text/plain": [
              "[<matplotlib.lines.Line2D at 0x7fd3c7bfc3d0>]"
            ]
          },
          "metadata": {},
          "execution_count": 220
        },
        {
          "output_type": "display_data",
          "data": {
            "text/plain": [
              "<Figure size 640x480 with 1 Axes>"
            ],
            "image/png": "[encoded data removed]"
          },
          "metadata": {}
        }
      ]
    },
    {
      "cell_type": "markdown",
      "source": [
        "# ***Test***"
      ],
      "metadata": {
        "id": "IU3D2E8HPkWW"
      }
    },
    {
      "cell_type": "code",
      "source": [
        "test = ['no','mires']"
      ],
      "metadata": {
        "id": "HwpaijvyN5af"
      },
      "execution_count": null,
      "outputs": []
    },
    {
      "cell_type": "code",
      "source": [
        "ar_test = conversion(pal_a_ind,test)\n",
        "ar_test = np.array([ar_test])\n",
        "res = modelo.predict(ar_test)"
      ],
      "metadata": {
        "colab": {
          "base_uri": "https://localhost:8080/"
        },
        "id": "-hnQxGeFOKqT",
        "outputId": "27aa80ea-117a-4ae9-9257-fc4bd2343d75"
      },
      "execution_count": null,
      "outputs": [
        {
          "output_type": "stream",
          "name": "stdout",
          "text": [
            "1/1 [==============================] - 0s 19ms/step\n"
          ]
        }
      ]
    },
    {
      "cell_type": "code",
      "source": [
        "# Array original\n",
        "array = np.array(res[0])\n",
        "\n",
        "# Obtener el índice del valor más alto\n",
        "indice_maximo = np.argmax(array)\n",
        "\n",
        "# Crear un nuevo array con ceros\n",
        "nuevo_array = np.zeros_like(array)\n",
        "\n",
        "# Establecer el valor más alto en 1\n",
        "nuevo_array[indice_maximo] = 1\n",
        "\n",
        "indices =np.where(nuevo_array == 1)\n",
        "id=indices[0][0]\n",
        "print(alfabeto[id])"
      ],
      "metadata": {
        "colab": {
          "base_uri": "https://localhost:8080/"
        },
        "id": "bJMjZ4_EOgVU",
        "outputId": "3fcca5ee-882a-453a-a382-7802af90df60"
      },
      "execution_count": null,
      "outputs": [
        {
          "output_type": "stream",
          "name": "stdout",
          "text": [
            "atrás\n"
          ]
        }
      ]
    }
  ]
}
