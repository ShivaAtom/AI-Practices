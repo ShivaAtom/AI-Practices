{
  "nbformat": 4,
  "nbformat_minor": 0,
  "metadata": {
    "colab": {
      "provenance": [],
      "authorship_tag": "ABX9TyPTDl1g9eZrjOM1iZIwZEF3",
      "include_colab_link": true
    },
    "kernelspec": {
      "name": "python3",
      "display_name": "Python 3"
    },
    "language_info": {
      "name": "python"
    }
  },
  "cells": [
    {
      "cell_type": "markdown",
      "metadata": {
        "id": "view-in-github",
        "colab_type": "text"
      },
      "source": [
        "<a href=\"https://colab.research.google.com/github/ShivaAtom/AI-Practices/blob/main/LSTMDiccPalabras.ipynb\" target=\"_parent\"><img src=\"https://colab.research.google.com/assets/colab-badge.svg\" alt=\"Open In Colab\"/></a>"
      ]
    },
    {
      "cell_type": "code",
      "execution_count": null,
      "metadata": {
        "id": "TKAeOfFLMnXZ"
      },
      "outputs": [],
      "source": [
        "import tensorflow as tf\n",
        "import numpy as np\n",
        "import matplotlib.pyplot as plt\n",
        "\n",
        "from tensorflow import keras"
      ]
    },
    {
      "cell_type": "code",
      "source": [
        "with open('Cancion.txt','r') as song:\n",
        "  text = song.read()"
      ],
      "metadata": {
        "id": "anx_0uadM1Bs"
      },
      "execution_count": null,
      "outputs": []
    },
    {
      "cell_type": "code",
      "source": [
        "text =text.lower()\n",
        "text = text.replace('.','').replace(',','').replace('\\n',' ').replace('?','').replace('¿','').replace(\"'\",'')\n",
        "aux,ar_palabras ='',[]\n",
        "for i in text:\n",
        "  if i != ' ':\n",
        "    aux = aux + i\n",
        "  else:\n",
        "    ar_palabras.append(aux)\n",
        "    aux=''\n",
        "alfabeto = list(set(ar_palabras))"
      ],
      "metadata": {
        "id": "fa7l7z5lM-yO"
      },
      "execution_count": null,
      "outputs": []
    },
    {
      "cell_type": "code",
      "source": [
        "print(ar_palabras)\n",
        "print(alfabeto)"
      ],
      "metadata": {
        "colab": {
          "base_uri": "https://localhost:8080/"
        },
        "id": "nybuoU6YNZt7",
        "outputId": "181367b3-6bd7-4945-af40-eee517df2b2a"
      },
      "execution_count": null,
      "outputs": [
        {
          "output_type": "stream",
          "name": "stdout",
          "text": [
            "['en', 'tu', 'mente', 'empieza', 'el', 'fuego', 'tú', 'ya', 'no', 'ves', 'lo', 'que', 'yo', 'creo', 'lo', 'que', 'veo', 'es', 'lo', 'que', 'niego', 'y', 'en', 'el', 'fuego', 'están', 'tus', 'celos', '', 'lo', 'que', 'dices', 'que', 'no', 'es', 'verdad', 'revienta', 'en', 'el', 'cristal', 'y', 'esa', 'es', 'tu', 'realidad', 'estas', 'ganas', 'de', 'enseñarte', 'lo', 'que', 'es', 'real', 'se', 'irán', 'de', 'noche', 'pa', 'que', 'en', 'sueños', 'imagines', 'que', 'te', 'vas', 'porque', '', 'antes', 'de', 'mirarme', 'reclamarme', 'no', 'hace', 'bien', 'ya', 'no', 'tengo', 'nada', 'en', 'ganas', 'de', 'volverte', 'a', 'ver', '', 'antes', 'de', 'que', 'mientas', 'otra', 'vez', 'el', 'cielo', 'caerá', '', 'y', 'en', 'el', 'fuego', 'de', 'tus', 'celos', 'este', 'cielo', 'quemarás', 'es', 'el', 'infierno', 'que', 'tanto', 'querrás', 'a', 'gritos', 'pedías', 'hacernos', 'el', 'mal', 'o', 'no', 'es', 'el', 'estado', 'que', 'tanto', 'anhelabas', '', 'a', 'gritos', 'pedías', 'hacernos', 'el', 'mal', 'qué', 'más', 'no', 'mires', 'atrás', 'es', 'lo', 'que', 'hay', 'no', 'mires', 'atrás', 'qué', 'más', 'no', 'mires', 'atrás', 'no', 'mires', 'atrás']\n",
            "['', 'que', 'te', 'anhelabas', 'se', 'el', 'tengo', 'hacernos', 'dices', 'pedías', 'irán', 'atrás', 'tú', 'antes', 'tanto', 'reclamarme', 'estas', 'real', 'niego', 'creo', 'esa', 'enseñarte', 'verdad', 'ver', 'empieza', 'en', 'gritos', 'mente', 'sueños', 'otra', 'quemarás', 'noche', 'caerá', 'imagines', 'es', 'realidad', 'hay', 'hace', 'celos', 'no', 'fuego', 'revienta', 'a', 'mal', 'infierno', 'qué', 'lo', 'yo', 'cristal', 'tus', 'ves', 'tu', 'volverte', 'vez', 'y', 'de', 'más', 'bien', 'querrás', 'veo', 'cielo', 'estado', 'mires', 'porque', 'mientas', 'o', 'están', 'vas', 'ganas', 'mirarme', 'ya', 'este', 'pa', 'nada']\n"
          ]
        }
      ]
    },
    {
      "cell_type": "code",
      "source": [
        "pal_a_ind = {pal:ind for ind,pal in enumerate(alfabeto)}\n",
        "ind_a_pal = {ind:pal for ind,pal in enumerate(alfabeto)}"
      ],
      "metadata": {
        "id": "2li9w4AgOmju"
      },
      "execution_count": null,
      "outputs": []
    },
    {
      "cell_type": "code",
      "source": [
        "print(pal_a_ind)\n",
        "print(ind_a_pal)"
      ],
      "metadata": {
        "colab": {
          "base_uri": "https://localhost:8080/"
        },
        "id": "yJNbc0gMO-Ow",
        "outputId": "4133abe2-9cf0-4355-cea7-107e5e058f0e"
      },
      "execution_count": null,
      "outputs": [
        {
          "output_type": "stream",
          "name": "stdout",
          "text": [
            "{'': 0, 'que': 1, 'te': 2, 'anhelabas': 3, 'se': 4, 'el': 5, 'tengo': 6, 'hacernos': 7, 'dices': 8, 'pedías': 9, 'irán': 10, 'atrás': 11, 'tú': 12, 'antes': 13, 'tanto': 14, 'reclamarme': 15, 'estas': 16, 'real': 17, 'niego': 18, 'creo': 19, 'esa': 20, 'enseñarte': 21, 'verdad': 22, 'ver': 23, 'empieza': 24, 'en': 25, 'gritos': 26, 'mente': 27, 'sueños': 28, 'otra': 29, 'quemarás': 30, 'noche': 31, 'caerá': 32, 'imagines': 33, 'es': 34, 'realidad': 35, 'hay': 36, 'hace': 37, 'celos': 38, 'no': 39, 'fuego': 40, 'revienta': 41, 'a': 42, 'mal': 43, 'infierno': 44, 'qué': 45, 'lo': 46, 'yo': 47, 'cristal': 48, 'tus': 49, 'ves': 50, 'tu': 51, 'volverte': 52, 'vez': 53, 'y': 54, 'de': 55, 'más': 56, 'bien': 57, 'querrás': 58, 'veo': 59, 'cielo': 60, 'estado': 61, 'mires': 62, 'porque': 63, 'mientas': 64, 'o': 65, 'están': 66, 'vas': 67, 'ganas': 68, 'mirarme': 69, 'ya': 70, 'este': 71, 'pa': 72, 'nada': 73}\n",
            "{0: '', 1: 'que', 2: 'te', 3: 'anhelabas', 4: 'se', 5: 'el', 6: 'tengo', 7: 'hacernos', 8: 'dices', 9: 'pedías', 10: 'irán', 11: 'atrás', 12: 'tú', 13: 'antes', 14: 'tanto', 15: 'reclamarme', 16: 'estas', 17: 'real', 18: 'niego', 19: 'creo', 20: 'esa', 21: 'enseñarte', 22: 'verdad', 23: 'ver', 24: 'empieza', 25: 'en', 26: 'gritos', 27: 'mente', 28: 'sueños', 29: 'otra', 30: 'quemarás', 31: 'noche', 32: 'caerá', 33: 'imagines', 34: 'es', 35: 'realidad', 36: 'hay', 37: 'hace', 38: 'celos', 39: 'no', 40: 'fuego', 41: 'revienta', 42: 'a', 43: 'mal', 44: 'infierno', 45: 'qué', 46: 'lo', 47: 'yo', 48: 'cristal', 49: 'tus', 50: 'ves', 51: 'tu', 52: 'volverte', 53: 'vez', 54: 'y', 55: 'de', 56: 'más', 57: 'bien', 58: 'querrás', 59: 'veo', 60: 'cielo', 61: 'estado', 62: 'mires', 63: 'porque', 64: 'mientas', 65: 'o', 66: 'están', 67: 'vas', 68: 'ganas', 69: 'mirarme', 70: 'ya', 71: 'este', 72: 'pa', 73: 'nada'}\n"
          ]
        }
      ]
    },
    {
      "cell_type": "code",
      "source": [
        "x_pre,y_pre=[],[]\n",
        "aux=[]\n",
        "for i in range(len(ar_palabras)-1):\n",
        "  aux.append(ar_palabras[i])\n",
        "  aux.append(ar_palabras[i+1])\n",
        "  x_pre.append(aux)\n",
        "  aux=[]\n",
        "x_pre.pop()\n",
        "for i,val in enumerate(ar_palabras):\n",
        "  if i != 0 and i != 1:\n",
        "    y_pre.append(val)"
      ],
      "metadata": {
        "id": "T5ln9SJ8PFA3"
      },
      "execution_count": null,
      "outputs": []
    },
    {
      "cell_type": "code",
      "source": [
        "print(x_pre)\n",
        "print(y_pre)"
      ],
      "metadata": {
        "colab": {
          "base_uri": "https://localhost:8080/"
        },
        "id": "HqnQyoOzQKpE",
        "outputId": "9802d882-fe69-4cc3-8f85-3f6479264c1b"
      },
      "execution_count": null,
      "outputs": [
        {
          "output_type": "stream",
          "name": "stdout",
          "text": [
            "[['en', 'tu'], ['tu', 'mente'], ['mente', 'empieza'], ['empieza', 'el'], ['el', 'fuego'], ['fuego', 'tú'], ['tú', 'ya'], ['ya', 'no'], ['no', 'ves'], ['ves', 'lo'], ['lo', 'que'], ['que', 'yo'], ['yo', 'creo'], ['creo', 'lo'], ['lo', 'que'], ['que', 'veo'], ['veo', 'es'], ['es', 'lo'], ['lo', 'que'], ['que', 'niego'], ['niego', 'y'], ['y', 'en'], ['en', 'el'], ['el', 'fuego'], ['fuego', 'están'], ['están', 'tus'], ['tus', 'celos'], ['celos', ''], ['', 'lo'], ['lo', 'que'], ['que', 'dices'], ['dices', 'que'], ['que', 'no'], ['no', 'es'], ['es', 'verdad'], ['verdad', 'revienta'], ['revienta', 'en'], ['en', 'el'], ['el', 'cristal'], ['cristal', 'y'], ['y', 'esa'], ['esa', 'es'], ['es', 'tu'], ['tu', 'realidad'], ['realidad', 'estas'], ['estas', 'ganas'], ['ganas', 'de'], ['de', 'enseñarte'], ['enseñarte', 'lo'], ['lo', 'que'], ['que', 'es'], ['es', 'real'], ['real', 'se'], ['se', 'irán'], ['irán', 'de'], ['de', 'noche'], ['noche', 'pa'], ['pa', 'que'], ['que', 'en'], ['en', 'sueños'], ['sueños', 'imagines'], ['imagines', 'que'], ['que', 'te'], ['te', 'vas'], ['vas', 'porque'], ['porque', ''], ['', 'antes'], ['antes', 'de'], ['de', 'mirarme'], ['mirarme', 'reclamarme'], ['reclamarme', 'no'], ['no', 'hace'], ['hace', 'bien'], ['bien', 'ya'], ['ya', 'no'], ['no', 'tengo'], ['tengo', 'nada'], ['nada', 'en'], ['en', 'ganas'], ['ganas', 'de'], ['de', 'volverte'], ['volverte', 'a'], ['a', 'ver'], ['ver', ''], ['', 'antes'], ['antes', 'de'], ['de', 'que'], ['que', 'mientas'], ['mientas', 'otra'], ['otra', 'vez'], ['vez', 'el'], ['el', 'cielo'], ['cielo', 'caerá'], ['caerá', ''], ['', 'y'], ['y', 'en'], ['en', 'el'], ['el', 'fuego'], ['fuego', 'de'], ['de', 'tus'], ['tus', 'celos'], ['celos', 'este'], ['este', 'cielo'], ['cielo', 'quemarás'], ['quemarás', 'es'], ['es', 'el'], ['el', 'infierno'], ['infierno', 'que'], ['que', 'tanto'], ['tanto', 'querrás'], ['querrás', 'a'], ['a', 'gritos'], ['gritos', 'pedías'], ['pedías', 'hacernos'], ['hacernos', 'el'], ['el', 'mal'], ['mal', 'o'], ['o', 'no'], ['no', 'es'], ['es', 'el'], ['el', 'estado'], ['estado', 'que'], ['que', 'tanto'], ['tanto', 'anhelabas'], ['anhelabas', ''], ['', 'a'], ['a', 'gritos'], ['gritos', 'pedías'], ['pedías', 'hacernos'], ['hacernos', 'el'], ['el', 'mal'], ['mal', 'qué'], ['qué', 'más'], ['más', 'no'], ['no', 'mires'], ['mires', 'atrás'], ['atrás', 'es'], ['es', 'lo'], ['lo', 'que'], ['que', 'hay'], ['hay', 'no'], ['no', 'mires'], ['mires', 'atrás'], ['atrás', 'qué'], ['qué', 'más'], ['más', 'no'], ['no', 'mires'], ['mires', 'atrás'], ['atrás', 'no'], ['no', 'mires']]\n",
            "['mente', 'empieza', 'el', 'fuego', 'tú', 'ya', 'no', 'ves', 'lo', 'que', 'yo', 'creo', 'lo', 'que', 'veo', 'es', 'lo', 'que', 'niego', 'y', 'en', 'el', 'fuego', 'están', 'tus', 'celos', '', 'lo', 'que', 'dices', 'que', 'no', 'es', 'verdad', 'revienta', 'en', 'el', 'cristal', 'y', 'esa', 'es', 'tu', 'realidad', 'estas', 'ganas', 'de', 'enseñarte', 'lo', 'que', 'es', 'real', 'se', 'irán', 'de', 'noche', 'pa', 'que', 'en', 'sueños', 'imagines', 'que', 'te', 'vas', 'porque', '', 'antes', 'de', 'mirarme', 'reclamarme', 'no', 'hace', 'bien', 'ya', 'no', 'tengo', 'nada', 'en', 'ganas', 'de', 'volverte', 'a', 'ver', '', 'antes', 'de', 'que', 'mientas', 'otra', 'vez', 'el', 'cielo', 'caerá', '', 'y', 'en', 'el', 'fuego', 'de', 'tus', 'celos', 'este', 'cielo', 'quemarás', 'es', 'el', 'infierno', 'que', 'tanto', 'querrás', 'a', 'gritos', 'pedías', 'hacernos', 'el', 'mal', 'o', 'no', 'es', 'el', 'estado', 'que', 'tanto', 'anhelabas', '', 'a', 'gritos', 'pedías', 'hacernos', 'el', 'mal', 'qué', 'más', 'no', 'mires', 'atrás', 'es', 'lo', 'que', 'hay', 'no', 'mires', 'atrás', 'qué', 'más', 'no', 'mires', 'atrás', 'no', 'mires', 'atrás']\n"
          ]
        }
      ]
    },
    {
      "cell_type": "code",
      "source": [
        "def conversion(diccionario, array):\n",
        "  aux = []\n",
        "  for i in array:\n",
        "    aux.append(diccionario[i])\n",
        "  return(aux)"
      ],
      "metadata": {
        "id": "kcjD0YWuQf8E"
      },
      "execution_count": null,
      "outputs": []
    },
    {
      "cell_type": "code",
      "source": [
        "Y = conversion(pal_a_ind,y_pre)\n",
        "X=[]\n",
        "for i in x_pre:\n",
        "  X.append(conversion(pal_a_ind,i))"
      ],
      "metadata": {
        "id": "_p3eAE5iQ1fj"
      },
      "execution_count": null,
      "outputs": []
    },
    {
      "cell_type": "code",
      "source": [
        "print(X)\n",
        "print(Y)"
      ],
      "metadata": {
        "colab": {
          "base_uri": "https://localhost:8080/"
        },
        "id": "PZyfh_nhRXHr",
        "outputId": "007b4c1c-65b0-4c25-e145-1cadb3a0ad04"
      },
      "execution_count": null,
      "outputs": [
        {
          "output_type": "stream",
          "name": "stdout",
          "text": [
            "[[25, 51], [51, 27], [27, 24], [24, 5], [5, 40], [40, 12], [12, 70], [70, 39], [39, 50], [50, 46], [46, 1], [1, 47], [47, 19], [19, 46], [46, 1], [1, 59], [59, 34], [34, 46], [46, 1], [1, 18], [18, 54], [54, 25], [25, 5], [5, 40], [40, 66], [66, 49], [49, 38], [38, 0], [0, 46], [46, 1], [1, 8], [8, 1], [1, 39], [39, 34], [34, 22], [22, 41], [41, 25], [25, 5], [5, 48], [48, 54], [54, 20], [20, 34], [34, 51], [51, 35], [35, 16], [16, 68], [68, 55], [55, 21], [21, 46], [46, 1], [1, 34], [34, 17], [17, 4], [4, 10], [10, 55], [55, 31], [31, 72], [72, 1], [1, 25], [25, 28], [28, 33], [33, 1], [1, 2], [2, 67], [67, 63], [63, 0], [0, 13], [13, 55], [55, 69], [69, 15], [15, 39], [39, 37], [37, 57], [57, 70], [70, 39], [39, 6], [6, 73], [73, 25], [25, 68], [68, 55], [55, 52], [52, 42], [42, 23], [23, 0], [0, 13], [13, 55], [55, 1], [1, 64], [64, 29], [29, 53], [53, 5], [5, 60], [60, 32], [32, 0], [0, 54], [54, 25], [25, 5], [5, 40], [40, 55], [55, 49], [49, 38], [38, 71], [71, 60], [60, 30], [30, 34], [34, 5], [5, 44], [44, 1], [1, 14], [14, 58], [58, 42], [42, 26], [26, 9], [9, 7], [7, 5], [5, 43], [43, 65], [65, 39], [39, 34], [34, 5], [5, 61], [61, 1], [1, 14], [14, 3], [3, 0], [0, 42], [42, 26], [26, 9], [9, 7], [7, 5], [5, 43], [43, 45], [45, 56], [56, 39], [39, 62], [62, 11], [11, 34], [34, 46], [46, 1], [1, 36], [36, 39], [39, 62], [62, 11], [11, 45], [45, 56], [56, 39], [39, 62], [62, 11], [11, 39], [39, 62]]\n",
            "[27, 24, 5, 40, 12, 70, 39, 50, 46, 1, 47, 19, 46, 1, 59, 34, 46, 1, 18, 54, 25, 5, 40, 66, 49, 38, 0, 46, 1, 8, 1, 39, 34, 22, 41, 25, 5, 48, 54, 20, 34, 51, 35, 16, 68, 55, 21, 46, 1, 34, 17, 4, 10, 55, 31, 72, 1, 25, 28, 33, 1, 2, 67, 63, 0, 13, 55, 69, 15, 39, 37, 57, 70, 39, 6, 73, 25, 68, 55, 52, 42, 23, 0, 13, 55, 1, 64, 29, 53, 5, 60, 32, 0, 54, 25, 5, 40, 55, 49, 38, 71, 60, 30, 34, 5, 44, 1, 14, 58, 42, 26, 9, 7, 5, 43, 65, 39, 34, 5, 61, 1, 14, 3, 0, 42, 26, 9, 7, 5, 43, 45, 56, 39, 62, 11, 34, 46, 1, 36, 39, 62, 11, 45, 56, 39, 62, 11, 39, 62, 11]\n"
          ]
        }
      ]
    },
    {
      "cell_type": "code",
      "source": [
        "X = np.array(X)\n",
        "Y = np.array(Y)"
      ],
      "metadata": {
        "id": "bNSO9NYWRkwv"
      },
      "execution_count": null,
      "outputs": []
    },
    {
      "cell_type": "code",
      "source": [
        "nn = len(alfabeto)*4\n",
        "nn_2 = len(alfabeto)*2\n",
        "\n",
        "modelo = keras.Sequential([\n",
        "    keras.layers.Input(shape=(2,1)),\n",
        "    keras.layers.LSTM(nn),\n",
        "    keras.layers.Dropout(0.5),\n",
        "    keras.layers.Dense(nn_2,activation='relu'),\n",
        "    keras.layers.Dense(1,activation='relu')\n",
        "])"
      ],
      "metadata": {
        "id": "UtIjFPzNR5An"
      },
      "execution_count": null,
      "outputs": []
    },
    {
      "cell_type": "code",
      "source": [
        "modelo.compile(\n",
        "    optimizer='adam',\n",
        "    loss=keras.losses.binary_crossentropy,\n",
        "    metrics=['accuracy']\n",
        ")"
      ],
      "metadata": {
        "id": "k0x6ojz9TBFY"
      },
      "execution_count": null,
      "outputs": []
    },
    {
      "cell_type": "code",
      "source": [
        "his = modelo.fit(X,Y,epochs=600,batch_size=100,verbose=False)"
      ],
      "metadata": {
        "id": "dQVpDcD3TOGl"
      },
      "execution_count": null,
      "outputs": []
    },
    {
      "cell_type": "code",
      "source": [
        "plt.plot(his.history['loss'])\n",
        "plt.plot(his.history['accuracy'])"
      ],
      "metadata": {
        "colab": {
          "base_uri": "https://localhost:8080/",
          "height": 448
        },
        "id": "63imkfS6ThIV",
        "outputId": "6bd36b28-c90e-4414-eebf-16c90c27833e"
      },
      "execution_count": null,
      "outputs": [
        {
          "output_type": "execute_result",
          "data": {
            "text/plain": [
              "[<matplotlib.lines.Line2D at 0x7f0dd6e5d000>]"
            ]
          },
          "metadata": {},
          "execution_count": 126
        },
        {
          "output_type": "display_data",
          "data": {
            "text/plain": [
              "<Figure size 640x480 with 1 Axes>"
            ],
            "image/png": "[encoded data removed]"
          },
          "metadata": {}
        }
      ]
    },
    {
      "cell_type": "code",
      "source": [
        "test =['tu','mente']"
      ],
      "metadata": {
        "id": "hGNdllkFUwI5"
      },
      "execution_count": null,
      "outputs": []
    },
    {
      "cell_type": "code",
      "source": [
        "res = conversion(pal_a_ind,test)\n",
        "res = np.array([res])"
      ],
      "metadata": {
        "id": "stKXui9BVUMK"
      },
      "execution_count": null,
      "outputs": []
    },
    {
      "cell_type": "code",
      "source": [
        "pre = modelo.predict(res)"
      ],
      "metadata": {
        "colab": {
          "base_uri": "https://localhost:8080/"
        },
        "id": "Ki3R8ypwVfgx",
        "outputId": "1e3c7d6f-6102-47c5-aa3c-24200e0fdfd8"
      },
      "execution_count": null,
      "outputs": [
        {
          "output_type": "stream",
          "name": "stdout",
          "text": [
            "1/1 [==============================] - 0s 16ms/step\n"
          ]
        }
      ]
    },
    {
      "cell_type": "code",
      "source": [
        "res_2 = pre[0][0]*len(alfabeto)\n",
        "palabra=ind_a_pal[int(res_2)]\n",
        "print(palabra)"
      ],
      "metadata": {
        "colab": {
          "base_uri": "https://localhost:8080/"
        },
        "id": "NgfESosJVrj2",
        "outputId": "6587aa16-55f1-454f-dae3-5c67d466d13d"
      },
      "execution_count": null,
      "outputs": [
        {
          "output_type": "stream",
          "name": "stdout",
          "text": [
            "volverte\n"
          ]
        }
      ]
    }
  ]
}
