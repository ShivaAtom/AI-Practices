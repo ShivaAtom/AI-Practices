{
  "nbformat": 4,
  "nbformat_minor": 0,
  "metadata": {
    "colab": {
      "provenance": [],
      "authorship_tag": "ABX9TyODhylUHYmea/G7f7mAevG3",
      "include_colab_link": true
    },
    "kernelspec": {
      "name": "python3",
      "display_name": "Python 3"
    },
    "language_info": {
      "name": "python"
    }
  },
  "cells": [
    {
      "cell_type": "markdown",
      "metadata": {
        "id": "view-in-github",
        "colab_type": "text"
      },
      "source": [
        "<a href=\"https://colab.research.google.com/github/ShivaAtom/AI-Practices/blob/main/LSTMDobleResultadoSucesion.ipynb\" target=\"_parent\"><img src=\"https://colab.research.google.com/assets/colab-badge.svg\" alt=\"Open In Colab\"/></a>"
      ]
    },
    {
      "cell_type": "code",
      "execution_count": null,
      "metadata": {
        "colab": {
          "base_uri": "https://localhost:8080/"
        },
        "id": "IcG2l2P4FK-I",
        "outputId": "8b757b82-24d7-4afe-d547-7f72db07d1fa"
      },
      "outputs": [
        {
          "output_type": "stream",
          "name": "stdout",
          "text": [
            "[[0, 3, 6, 9], [3, 6, 9, 12], [6, 9, 12, 15], [9, 12, 15, 18], [12, 15, 18, 21], [15, 18, 21, 24], [18, 21, 24, 27], [21, 24, 27, 30], [24, 27, 30, 33], [27, 30, 33, 36], [30, 33, 36, 39], [33, 36, 39, 42], [36, 39, 42, 45], [39, 42, 45, 48], [42, 45, 48, 51], [45, 48, 51, 54], [48, 51, 54, 57], [51, 54, 57, 60], [54, 57, 60, 63], [57, 60, 63, 66], [60, 63, 66, 69], [63, 66, 69, 72], [66, 69, 72, 75], [69, 72, 75, 78], [72, 75, 78, 81], [75, 78, 81, 84], [78, 81, 84, 87], [81, 84, 87, 90], [84, 87, 90, 93], [87, 90, 93, 96], [90, 93, 96, 99], [93, 96, 99, 102], [96, 99, 102, 105], [99, 102, 105, 108]]\n",
            "[[12, 15], [15, 18], [18, 21], [21, 24], [24, 27], [27, 30], [30, 33], [33, 36], [36, 39], [39, 42], [42, 45], [45, 48], [48, 51], [51, 54], [54, 57], [57, 60], [60, 63], [63, 66], [66, 69], [69, 72], [72, 75], [75, 78], [78, 81], [81, 84], [84, 87], [87, 90], [90, 93], [93, 96], [96, 99], [99, 102], [102, 105], [105, 108], [108, 111], [111, 114]]\n",
            "1/1 [==============================] - 1s 524ms/step\n",
            "[[83. 86. 89. 92.]]\n",
            "[[95.79568 98.93974]]\n"
          ]
        }
      ],
      "source": [
        "\n",
        "# Un ejemplo sencillo de una red neuronal recurrente con tensorflow y keras, que al pasarle una sucesion de numeros como: [2,4,6,8] me pueda predecir el siguiente y el siguiente del siguiente numero\n",
        "\n",
        "import tensorflow as tf\n",
        "from tensorflow import keras\n",
        "from tensorflow.keras import layers\n",
        "import numpy as np\n",
        "\n",
        "\n",
        "# Crear un conjunto de datos con secuencias de numeros pares y sus siguientes dos numeros\n",
        "X = []\n",
        "y = []\n",
        "for i in range(0, 100, 3):\n",
        "  X.append([i, i+3, i+6, i+9])\n",
        "  y.append([i+12, i+15])\n",
        "\n",
        "# Convertir las listas en arrays de numpy\n",
        "print(X)\n",
        "print(y)\n",
        "X = np.array(X)\n",
        "y = np.array(y)\n",
        "\n",
        "# Normalizar los datos dividiendolos por el maximo valor\n",
        "X = X / 100\n",
        "y = y / 100\n",
        "\n",
        "# Crear el modelo de la red neuronal recurrente con una capa LSTM y una capa densa\n",
        "model = keras.Sequential()\n",
        "model.add(layers.LSTM(8, input_shape=(4, 1), return_sequences=True))\n",
        "model.add(layers.LSTM(8))\n",
        "model.add(layers.Dense(2))\n",
        "\n",
        "# Compilar el modelo con el optimizador Adam y la funcion de perdida MSE\n",
        "model.compile(optimizer='adam', loss='mse')\n",
        "\n",
        "# Entrenar el modelo con los datos de entrada y salida, usando 100 epochs y un batch size de 4\n",
        "model.fit(X, y, epochs=100, batch_size=4, verbose=False)\n",
        "\n",
        "# Predecir los siguientes dos numeros para la secuencia [12,15,18,21]\n",
        "x_test = np.array([[83,86,89,92]]) / 100\n",
        "y_pred = model.predict(x_test) * 100\n",
        "print(x_test*100)\n",
        "print(y_pred)"
      ]
    }
  ]
}